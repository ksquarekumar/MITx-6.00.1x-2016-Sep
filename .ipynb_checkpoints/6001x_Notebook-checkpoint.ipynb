{
 "cells": [
  {
   "cell_type": "code",
   "execution_count": 39,
   "metadata": {
    "collapsed": false,
    "scrolled": true
   },
   "outputs": [
    {
     "name": "stdout",
     "output_type": "stream",
     "text": [
      "Hello World\n"
     ]
    }
   ],
   "source": [
    "print(\"Hello World\")\n"
   ]
  },
  {
   "cell_type": "code",
   "execution_count": 40,
   "metadata": {
    "collapsed": false,
    "scrolled": false
   },
   "outputs": [
    {
     "name": "stdout",
     "output_type": "stream",
     "text": [
      "This is another cell\n"
     ]
    }
   ],
   "source": [
    "print(\"This is another cell\")"
   ]
  },
  {
   "cell_type": "code",
   "execution_count": 41,
   "metadata": {
    "collapsed": false,
    "scrolled": true
   },
   "outputs": [
    {
     "name": "stdout",
     "output_type": "stream",
     "text": [
      "You can see what a cell outputs right in the cell itself!\n"
     ]
    }
   ],
   "source": [
    "print(\"You can see what a cell outputs right in the cell itself!\")"
   ]
  },
  {
   "cell_type": "code",
   "execution_count": 42,
   "metadata": {
    "collapsed": false,
    "scrolled": true
   },
   "outputs": [
    {
     "name": "stdout",
     "output_type": "stream",
     "text": [
      "You can select multiple cells to run only those cells!\n"
     ]
    }
   ],
   "source": [
    "print(\"You can select multiple cells to run only those cells!\")"
   ]
  },
  {
   "cell_type": "code",
   "execution_count": 43,
   "metadata": {
    "collapsed": false,
    "scrolled": false
   },
   "outputs": [
    {
     "name": "stdout",
     "output_type": "stream",
     "text": [
      "Try it! Change the first cell to say print('Hi world'), change the second cell to say print('hey') and change the third one to say print('wow'). Then, select the first two cells by clicking on one then hold SHIFT then click the other one. Go to 'Cell'->'Run cells', and you should see the outputs of the first two cells changed but not the third one.\n"
     ]
    }
   ],
   "source": [
    "print(\"Try it! Change the first cell to say print('Hi world'), change the second cell to say print('hey') and change the third one to say print('wow'). Then, select the first two cells by clicking on one then hold SHIFT then click the other one. Go to 'Cell'->'Run cells', and you should see the outputs of the first two cells changed but not the third one.\")\n"
   ]
  },
  {
   "cell_type": "code",
   "execution_count": 44,
   "metadata": {
    "collapsed": false
   },
   "outputs": [
    {
     "name": "stdout",
     "output_type": "stream",
     "text": [
      "You can run all cells by going to 'Cell' -> 'Run all'\n"
     ]
    }
   ],
   "source": [
    "print(\"You can run all cells by going to 'Cell' -> 'Run all'\")"
   ]
  }
 ],
 "metadata": {
  "kernelspec": {
   "display_name": "Python [conda env:py3k]",
   "language": "python",
   "name": "conda-env-py3k-py"
  },
  "language_info": {
   "codemirror_mode": {
    "name": "ipython",
    "version": 3
   },
   "file_extension": ".py",
   "mimetype": "text/x-python",
   "name": "python",
   "nbconvert_exporter": "python",
   "pygments_lexer": "ipython3",
   "version": "3.5.2"
  }
 },
 "nbformat": 4,
 "nbformat_minor": 1
}
