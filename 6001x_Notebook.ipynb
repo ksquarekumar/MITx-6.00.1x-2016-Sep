{
 "cells": [
  {
   "cell_type": "code",
   "execution_count": 34,
   "metadata": {},
   "outputs": [
    {
     "name": "stdout",
     "output_type": "stream",
     "text": [
      "2 23.622054099746407\n"
     ]
    }
   ],
   "source": [
    "#Newton Rhapson Square Root, MIT EDx\n",
    "\n",
    "x = 558 # 7 iterations\n",
    "guess = x/25\n",
    "eps = 0.01\n",
    "num = 0\n",
    "\n",
    "while abs(x-guess**2) > eps:\n",
    "    num += 1\n",
    "    guess = guess - (guess**2 - x) / (2 * guess)\n",
    "print(num, guess)"
   ]
  },
  {
   "cell_type": "code",
   "execution_count": 33,
   "metadata": {},
   "outputs": [
    {
     "name": "stdout",
     "output_type": "stream",
     "text": [
      "0\n"
     ]
    }
   ],
   "source": [
    "str1 = \"number one - the larch\"\n",
    "print(str1.find('n'))"
   ]
  },
  {
   "cell_type": "code",
   "execution_count": 49,
   "metadata": {},
   "outputs": [
    {
     "name": "stdout",
     "output_type": "stream",
     "text": [
      "3\n"
     ]
    }
   ],
   "source": [
    "print (max(2,3))"
   ]
  },
  {
   "cell_type": "code",
   "execution_count": 211,
   "metadata": {},
   "outputs": [
    {
     "name": "stdout",
     "output_type": "stream",
     "text": [
      "f : h : sv\nh\n"
     ]
    }
   ],
   "source": [
    "aStr = \"fhsv\"\n",
    "\n",
    "def mid (aStr):\n",
    "    return aStr[(len(aStr)//2 + len(aStr)%2 - 1)]\n",
    "\n",
    "def split (aStr, bool):\n",
    "    if bool == 1:\n",
    "        aStr = aStr[0:(len(aStr)//2 + len(aStr)%2-1)]\n",
    "    elif bool == 0:\n",
    "        aStr = aStr[(len(aStr)//2 + len(aStr)%2):]\n",
    "    else:\n",
    "        return False\n",
    "        \n",
    "    return aStr\n",
    "        \n",
    "\n",
    "print(split (aStr,1) + \" : \" + mid(aStr) +\" : \" + split(aStr,0))\n",
    "print(mid (aStr))"
   ]
  },
  {
   "cell_type": "code",
   "execution_count": 217,
   "metadata": {},
   "outputs": [
    {
     "name": "stdout",
     "output_type": "stream",
     "text": [
      "True\n"
     ]
    }
   ],
   "source": [
    "def isIn(char, aStr):\n",
    "    '''\n",
    "    char: a single character\n",
    "    aStr: an alphabetized string\n",
    "    \n",
    "    returns: True if char is in aStr; False otherwise\n",
    "    '''\n",
    "    # Your code here     \n",
    "    # print(aStr, len(aStr), char) # track progrees on recursion\n",
    "    #additional modules\n",
    "    def mid (aStr):\n",
    "        '''\n",
    "        returns the middle character in the aStr String parameter\n",
    "        '''\n",
    "        return aStr[(len(aStr)//2 + len(aStr)%2 - 1)]\n",
    "\n",
    "    def split (aStr, bool):\n",
    "        '''\n",
    "    Splits the string into halves\n",
    "    :param aStr: the main string to split\n",
    "    :param bool: int value, 1 for splitting into first half, 0 to split into latter half\n",
    "    :return: the appropriate string splitted as specified by the bool int value\n",
    "    \n",
    "    '''\n",
    "        if bool == 1:\n",
    "            aStr = aStr[0:(len(aStr)//2 + len(aStr)%2-1)]\n",
    "        elif bool == 0:\n",
    "            aStr = aStr[(len(aStr)//2 + len(aStr)%2):]\n",
    "        else:\n",
    "            return False\n",
    "        \n",
    "        return aStr\n",
    "        \n",
    "    #main function resumes\n",
    "    if len(aStr) == 0 or len(aStr) == 1 and char != aStr[0]:\n",
    "        return False\n",
    "    elif len(aStr) == 1 and char == aStr[0]:\n",
    "        return True\n",
    "    elif char == mid(aStr):\n",
    "        return True\n",
    "    else:\n",
    "        if char > mid(aStr):\n",
    "            aStr = isIn(char, split(aStr,0))\n",
    "        elif char < mid(aStr):\n",
    "            aStr = isIn(char, split(aStr,1))\n",
    "    return aStr\n",
    "\n",
    "print(isIn('h',\"fhsv\"))"
   ]
  },
  {
   "cell_type": "code",
   "execution_count": 222,
   "metadata": {},
   "outputs": [],
   "source": [
    "import math as m\n",
    "\n",
    "print(m.tan(m.pi/4))"
   ]
  },
  {
   "cell_type": "code",
   "execution_count": 26,
   "metadata": {},
   "outputs": [
    {
     "name": "stdout",
     "output_type": "stream",
     "text": [
      "<class 'tuple'>\n"
     ]
    }
   ],
   "source": [
    "x = (1, 2, (3, 'John', 4), 'Hi')\n",
    "\n",
    "print(type(x[2]))"
   ]
  },
  {
   "cell_type": "code",
   "execution_count": 3,
   "metadata": {},
   "outputs": [
    {
     "name": "stdout",
     "output_type": "stream",
     "text": [
      "1 2\n2 1\n"
     ]
    }
   ],
   "source": [
    "x =1\n",
    "y = 2\n",
    "print(x,y)\n",
    "x, y = y, x\n",
    "print(x,y)"
   ]
  },
  {
   "cell_type": "code",
   "execution_count": 18,
   "metadata": {},
   "outputs": [
    {
     "name": "stdout",
     "output_type": "stream",
     "text": [
      "[1]\n"
     ]
    }
   ],
   "source": [
    "x = [1, 2, [3, 'John', 4], 'Hi'] \n",
    "print(x[0:1])"
   ]
  },
  {
   "cell_type": "code",
   "execution_count": 33,
   "metadata": {},
   "outputs": [
    {
     "name": "stdout",
     "output_type": "stream",
     "text": [
      "<class 'NoneType'>\n[0, 1, 3, 4, 'x', 'z', 't', 'q']\n"
     ]
    },
    {
     "data": {
      "text/plain": [
       "[0, 1, 3, 4, 1, 6, 3, 4]"
      ]
     },
     "execution_count": 33,
     "metadata": {},
     "output_type": "execute_result"
    }
   ],
   "source": [
    "listA = [1, 4, 3, 0]\n",
    "listB = ['x', 'z', 't', 'q']\n",
    "print(type(listA.sort())) # doesnt return anything, Nonetype\n",
    "print(listA + listB)\n",
    "listB.sort()\n",
    "listB.pop()\n",
    "listA.extend([4, 1, 6, 3, 4])\n",
    "listA.pop(4)\n",
    "listA"
   ]
  },
  {
   "cell_type": "code",
   "execution_count": 35,
   "metadata": {},
   "outputs": [
    {
     "data": {
      "text/plain": [
       "[4, 3, 6, 1, 4, 7, 1, 0, 100]"
      ]
     },
     "execution_count": 35,
     "metadata": {},
     "output_type": "execute_result"
    }
   ],
   "source": [
    "listA = [100, 0, 1, 7, 4, 1, 6, 3, 4]\n",
    "listA.reverse()\n",
    "listA"
   ]
  },
  {
   "cell_type": "code",
   "execution_count": 39,
   "metadata": {},
   "outputs": [],
   "source": [
    "listA = [1, 4, 3, 0]\n",
    "listA.sort()"
   ]
  },
  {
   "cell_type": "code",
   "execution_count": 43,
   "metadata": {},
   "outputs": [
    {
     "data": {
      "text/plain": [
       "'z'"
      ]
     },
     "execution_count": 43,
     "metadata": {},
     "output_type": "execute_result"
    }
   ],
   "source": [
    "listB = ['x', 'z', 't', 'q']\n",
    "listB.sort()\n",
    "listB.pop()"
   ]
  },
  {
   "cell_type": "code",
   "execution_count": 47,
   "metadata": {},
   "outputs": [
    {
     "data": {
      "text/plain": [
       "[4, 3, 6, 1, 4, 4, 1, 0, 100]"
      ]
     },
     "execution_count": 47,
     "metadata": {},
     "output_type": "execute_result"
    }
   ],
   "source": [
    "listA = [100, 0, 1, 4, 7]\n",
    "listA.extend([4, 1, 6, 3, 4])\n",
    "listA.index(1)\n",
    "listA.pop(4)\n",
    "listA.reverse()\n",
    "listA"
   ]
  },
  {
   "cell_type": "code",
   "execution_count": 65,
   "metadata": {},
   "outputs": [
    {
     "name": "stdout",
     "output_type": "stream",
     "text": [
      "[0, 1, 'Hello', 3, 4, 5]\n[0, 1, 'Hello', 3, 4, 5]\n"
     ]
    }
   ],
   "source": [
    "aList = [0, 1, 2, 3, 4, 5]\n",
    "bList = aList\n",
    "aList[2] = 'Hello'\n",
    "bList is aList\n",
    "print (aList)\n",
    "print (bList)"
   ]
  },
  {
   "cell_type": "code",
   "execution_count": 58,
   "metadata": {},
   "outputs": [
    {
     "name": "stdout",
     "output_type": "stream",
     "text": [
      "[6, 5, 4, 3, 2]\n[6, 5, 4, 3, 2]\n[6, 5, 20, 3, 2]\n"
     ]
    }
   ],
   "source": [
    "cList = [6, 5, 4, 3, 2]\n",
    "dList = []\n",
    "for num in cList:\n",
    "    dList.append(num)\n",
    "cList == dList\n",
    "print(cList)\n",
    "print(dList)\n",
    "cList is dList\n",
    "cList[2] = 20\n",
    "print(cList)"
   ]
  },
  {
   "cell_type": "code",
   "execution_count": null,
   "metadata": {},
   "outputs": [],
   "source": [
    "print(max(3))"
   ]
  },
  {
   "cell_type": "code",
   "execution_count": 14,
   "metadata": {},
   "outputs": [
    {
     "data": {
      "text/plain": [
       "dict_values(['anteater', 'coati', 'donkey'])"
      ]
     },
     "execution_count": 14,
     "metadata": {},
     "output_type": "execute_result"
    }
   ],
   "source": [
    "animals = {'a': 'aardvark', 'b': 'baboon', 'c': 'coati'}\n",
    "animals['d'] = 'donkey'\n",
    "animals\n",
    "len(animals)\n",
    "animals['a'] = 'anteater'\n",
    "len(animals['a'])\n",
    "'donkey' in animals.values()\n",
    "animals.keys()\n",
    "del animals['b']\n",
    "len(animals)\n",
    "animals.values()"
   ]
  },
  {
   "cell_type": "code",
   "execution_count": 18,
   "metadata": {},
   "outputs": [
    {
     "name": "stdout",
     "output_type": "stream",
     "text": [
      "3\n"
     ]
    }
   ],
   "source": [
    "animals = { 'a': ['aardvark'], 'b': ['baboon'], 'c': ['coati']}\n",
    "\n",
    "animals['d'] = ['donkey']\n",
    "animals['d'].append('dog')\n",
    "animals['d'].append('dingo')\n",
    "print(len(animals['d']))"
   ]
  },
  {
   "cell_type": "code",
   "execution_count": 20,
   "metadata": {},
   "outputs": [
    {
     "ename": "NameError",
     "evalue": "name 'string' is not defined",
     "traceback": [
      "\u001b[0;31m---------------------------------------------------------------------------\u001b[0m",
      "\u001b[0;31mNameError\u001b[0m                                 Traceback (most recent call last)",
      "\u001b[0;32m<ipython-input-20-e054cd040110>\u001b[0m in \u001b[0;36m<module>\u001b[0;34m()\u001b[0m\n\u001b[0;32m----> 1\u001b[0;31m \u001b[0mprint\u001b[0m\u001b[1;33m(\u001b[0m\u001b[0mstring\u001b[0m\u001b[1;33m.\u001b[0m\u001b[0mascii_lowercase\u001b[0m\u001b[1;33m(\u001b[0m\u001b[1;33m)\u001b[0m\u001b[1;33m)\u001b[0m\u001b[1;33m\u001b[0m\u001b[0m\n\u001b[0m",
      "\u001b[0;31mNameError\u001b[0m: name 'string' is not defined"
     ],
     "output_type": "error"
    }
   ],
   "source": [
    "print(string.ascii_lowercase())"
   ]
  },
  {
   "cell_type": "code",
   "execution_count": null,
   "metadata": {},
   "outputs": [],
   "source": [
    ""
   ]
  }
 ],
 "metadata": {
  "anaconda-cloud": {},
  "kernelspec": {
   "display_name": "Python [conda env:py3k]",
   "language": "python",
   "name": "conda-env-py3k-py"
  },
  "language_info": {
   "codemirror_mode": {
    "name": "ipython",
    "version": 3.0
   },
   "file_extension": ".py",
   "mimetype": "text/x-python",
   "name": "python",
   "nbconvert_exporter": "python",
   "pygments_lexer": "ipython3",
   "version": "3.5.2"
  }
 },
 "nbformat": 4,
 "nbformat_minor": 0
}